{
 "cells": [
  {
   "cell_type": "code",
   "execution_count": 0,
   "metadata": {
    "application/vnd.databricks.v1+cell": {
     "cellMetadata": {
      "byteLimit": 2048000,
      "rowLimit": 10000
     },
     "inputWidgets": {},
     "nuid": "e9818621-62c0-4f5a-b5eb-0072a27aae41",
     "showTitle": false,
     "tableResultSettingsMap": {},
     "title": ""
    }
   },
   "outputs": [],
   "source": [
    "import yaml\n",
    "from utils_v2 import source_tables_combined, flatten_dataframe, dfs_payments_v2\n",
    "from pyspark.sql import SparkSession\n",
    "\n",
    "# Initialize Spark session\n",
    "spark = SparkSession.builder.appName(\"TestEntityPipeline\").getOrCreate()\n",
    "\n",
    "# Load YAML configuration\n",
    "with open(\"config.yaml\", \"r\") as file:\n",
    "    config = yaml.safe_load(file)\n",
    "\n",
    "# Choose environment and entity\n",
    "environment = \"int\"  # Change to \"prod\" for production\n",
    "entity_name = \"payments_v2\"  # Entity to test\n",
    "entity_config = config[\"environment\"][environment][\"entities\"][entity_name]\n",
    "\n",
    "# Run source_tables_combined\n",
    "combined_df = source_tables_combined(entity_config, spark.read.format(\"delta\").table)\n",
    "\n",
    "# Run flatten_dataframe\n",
    "flattened_df = flatten_dataframe(combined_df)\n",
    "\n",
    "# Run transformation function\n",
    "transformed_df = dfs_payments_v2(flattened_df)\n",
    "\n",
    "#transfroamtions for final payments V2 table\n",
    "transformed_df.printSchema()\n",
    "display(transformed_df)\n"
   ]
  }
 ],
 "metadata": {
  "application/vnd.databricks.v1+notebook": {
   "computePreferences": null,
   "dashboards": [],
   "environmentMetadata": {
    "base_environment": "",
    "client": "2"
   },
   "language": "python",
   "notebookMetadata": {
    "pythonIndentUnit": 4
   },
   "notebookName": "Test",
   "widgets": {}
  },
  "language_info": {
   "name": "python"
  }
 },
 "nbformat": 4,
 "nbformat_minor": 0
}
