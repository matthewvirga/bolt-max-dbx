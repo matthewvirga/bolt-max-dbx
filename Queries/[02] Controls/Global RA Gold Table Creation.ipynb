{
 "cells": [
  {
   "cell_type": "markdown",
   "metadata": {
    "application/vnd.databricks.v1+cell": {
     "cellMetadata": {
      "byteLimit": 2048000,
      "rowLimit": 10000
     },
     "inputWidgets": {},
     "nuid": "df611aa4-213b-4c4d-8f18-a49739ec6402",
     "showTitle": false,
     "tableResultSettingsMap": {},
     "title": ""
    }
   },
   "source": [
    "# Table Creation Statements for Gold Layer RA Tables"
   ]
  },
  {
   "cell_type": "code",
   "execution_count": 0,
   "metadata": {
    "application/vnd.databricks.v1+cell": {
     "cellMetadata": {
      "byteLimit": 2048000,
      "rowLimit": 10000
     },
     "inputWidgets": {},
     "nuid": "d530ab1f-da08-4e47-9200-3a9f180d11c4",
     "showTitle": true,
     "tableResultSettingsMap": {},
     "title": "Duplicate Transactions"
    }
   },
   "outputs": [],
   "source": [
    "CREATE TABLE IF NOT EXISTS bolt_finint_int.silver.ra_duplicate_transactions (\n",
    "    run_timestamp TIMESTAMP,   -- Timestamp of when the query was executed\n",
    "    region STRING,\n",
    "    userid STRING,\n",
    "    transactions_detail ARRAY<STRUCT<event_id STRING, provider_reference_id STRING, priceplan_market STRING, billed_amount DOUBLE>>,\n",
    "    created_date DATE,\n",
    "    invoice_start_date DATE,\n",
    "    productname STRING,\n",
    "    plan_price DOUBLE,\n",
    "    count INT,\n",
    "    charged_amount DOUBLE,\n",
    "    refunds_count INT,\n",
    "    total_refunded DOUBLE\n",
    ") USING DELTA;"
   ]
  },
  {
   "cell_type": "code",
   "execution_count": 0,
   "metadata": {
    "application/vnd.databricks.v1+cell": {
     "cellMetadata": {
      "byteLimit": 2048000,
      "rowLimit": 10000
     },
     "inputWidgets": {},
     "nuid": "41a52d18-a56f-418d-a4f5-5f182b07b752",
     "showTitle": true,
     "tableResultSettingsMap": {},
     "title": "Duplicate Subscriptions"
    }
   },
   "outputs": [],
   "source": [
    "CREATE TABLE IF NOT EXISTS bolt_finint_int.silver.ra_duplicate_subscriptions (\n",
    "    run_timestamp TIMESTAMP,  -- Timestamp of when the query was executed\n",
    "    region STRING,\n",
    "    userid STRING,\n",
    "    subscription_details ARRAY<STRUCT<\n",
    "        productname STRING,\n",
    "        status STRING,\n",
    "        startDate STRING,\n",
    "        globalsubscriptionid STRING\n",
    "    >>,\n",
    "    subscription_count INT\n",
    ") USING DELTA;"
   ]
  },
  {
   "cell_type": "code",
   "execution_count": 0,
   "metadata": {
    "application/vnd.databricks.v1+cell": {
     "cellMetadata": {
      "byteLimit": 2048000,
      "rowLimit": 10000
     },
     "inputWidgets": {},
     "nuid": "dcdb9c75-3f1e-4c3d-82b6-6a0352193dc2",
     "showTitle": true,
     "tableResultSettingsMap": {},
     "title": "Unbilled Subscriptions"
    }
   },
   "outputs": [],
   "source": [
    "CREATE TABLE IF NOT EXISTS bolt_finint_int.silver.ra_unbilled_subscriptions (\n",
    "    run_timestamp TIMESTAMP,  -- Timestamp of when the query was executed\n",
    "    tenant STRING,\n",
    "    realm STRING,\n",
    "    region STRING,\n",
    "    status STRING,\n",
    "    providerType STRING,\n",
    "    providerName STRING,\n",
    "    direct_subscriptionType STRING,\n",
    "    priceplanmarket STRING,\n",
    "    productType STRING,\n",
    "    isBundle BOOLEAN,\n",
    "    productName STRING,\n",
    "    tierType STRING,\n",
    "    internalname STRING,\n",
    "    priceplantype STRING,\n",
    "    paymentperiod STRING,\n",
    "    numberOfPeriodsBetweenPayments INT,\n",
    "    planprice DOUBLE,\n",
    "    plancurrency STRING,\n",
    "    startDate DATE,\n",
    "    affiliateStartDate DATE,\n",
    "    nextRenewalDate DATE,\n",
    "    nextRetryDate DATE,\n",
    "    globalsubscriptionid STRING,\n",
    "    baseSubscriptionId STRING,\n",
    "    previousSubscriptionGlobalId STRING,\n",
    "    userid STRING,\n",
    "    userregistereddate DATE,\n",
    "    userlastlogindate DATE,\n",
    "    last_charge_result STRING,  -- Last charge status (SUCCESSFUL, FAILED, RETRYING)\n",
    "    last_charge_created_date DATE,  \n",
    "    last_charge_transaction_date DATE,\n",
    "    last_charge_invoice_start_date DATE,\n",
    "    last_charge_invoice_end_date DATE\n",
    ") USING DELTA;"
   ]
  },
  {
   "cell_type": "code",
   "execution_count": 0,
   "metadata": {
    "application/vnd.databricks.v1+cell": {
     "cellMetadata": {
      "byteLimit": 2048000,
      "rowLimit": 10000
     },
     "inputWidgets": {},
     "nuid": "e79e11ff-8592-4491-81c5-6b6b1e820413",
     "showTitle": true,
     "tableResultSettingsMap": {},
     "title": "Billed Amount Check"
    }
   },
   "outputs": [],
   "source": [
    "CREATE TABLE IF NOT EXISTS bolt_finint_int.silver.ra_billing_discrepancies (\n",
    "    run_timestamp TIMESTAMP,  -- Timestamp of when the query was executed\n",
    "    realm STRING,\n",
    "    tenant STRING,\n",
    "    userHomeRegion STRING,\n",
    "    region STRING,\n",
    "    created_date TIMESTAMP,\n",
    "    transaction_date TIMESTAMP,\n",
    "    invoice_start_date TIMESTAMP,\n",
    "    invoice_end_date TIMESTAMP,\n",
    "    next_retry_date TIMESTAMP,\n",
    "    source_type STRING,\n",
    "    billed_currency STRING,\n",
    "    event_type STRING,\n",
    "    payment_type STRING,\n",
    "    event_state_reason STRING,\n",
    "    refund_source STRING,\n",
    "    payment_provider STRING,\n",
    "    paymentInstallments INT,\n",
    "    is_post_launch BOOLEAN,\n",
    "    payment_method_type STRING,\n",
    "    card_Provider STRING,\n",
    "    funding_source STRING,\n",
    "    priceplan_market STRING,\n",
    "    launch_wave STRING,\n",
    "    product_type STRING,\n",
    "    is_bundle BOOLEAN,\n",
    "    is_retention_offer BOOLEAN,\n",
    "    productname STRING,\n",
    "    tier_type STRING,\n",
    "    campaign_Name STRING,\n",
    "    campaign_type STRING,\n",
    "    internalname STRING,\n",
    "    priceplantype STRING,\n",
    "    paymentperiod STRING,\n",
    "    period_frequency INT,\n",
    "    PriceplanInstallments INT,\n",
    "    plan_price DOUBLE,\n",
    "    plan_currency STRING,\n",
    "    currencyDecimalPoints INT,\n",
    "    sub_origin STRING,\n",
    "    sub_purchase_territory STRING,\n",
    "    sub_affiliate STRING,\n",
    "    sub_start_date TIMESTAMP,\n",
    "    sub_affiliate_start_date TIMESTAMP,\n",
    "    sub_installment_type STRING,\n",
    "    billed_amount DOUBLE,\n",
    "    tax_amount DOUBLE,\n",
    "    revenue_amount DOUBLE,\n",
    "    tax_rate DOUBLE,\n",
    "    tax_description STRING,\n",
    "    tax_country_code STRING,\n",
    "    userid STRING,\n",
    "    event_id STRING,\n",
    "    original_transaction_id STRING,\n",
    "    provider_Reference_id STRING,\n",
    "    merchantaccount STRING,\n",
    "    paymentmethodid STRING,\n",
    "    legacyExportingSource STRING,\n",
    "    globalsubscriptionid STRING,\n",
    "    basesubscriptionid STRING,\n",
    "    previoussubscriptionglobalid STRING,\n",
    "    priceplanid INT,\n",
    "    businessType STRING,\n",
    "    SAP_Platform STRING,\n",
    "    SAP_Brand STRING,\n",
    "    SAP_RevenueType STRING,\n",
    "    businessCase STRING,\n",
    "    testUSer BOOLEAN,\n",
    "    userEmail STRING,\n",
    "    refunded_transaction_id STRING,\n",
    "    total_refunded DOUBLE\n",
    ") USING DELTA;"
   ]
  },
  {
   "cell_type": "code",
   "execution_count": 0,
   "metadata": {
    "application/vnd.databricks.v1+cell": {
     "cellMetadata": {
      "byteLimit": 2048000,
      "rowLimit": 10000
     },
     "inputWidgets": {},
     "nuid": "fb03a73b-f638-4ea9-b10a-a46bb105fa5f",
     "showTitle": true,
     "tableResultSettingsMap": {},
     "title": "Add-On Terminated Base"
    }
   },
   "outputs": [],
   "source": [
    "CREATE TABLE IF NOT EXISTS bolt_finint_int.silver.ra_addon_terminated_base (\n",
    "    run_timestamp TIMESTAMP,  -- Timestamp of when the query was executed\n",
    "    \n",
    "    -- ADD-ON Subscription Details\n",
    "    region STRING,\n",
    "    add_on_provider_type STRING,\n",
    "    add_on_product_type STRING,\n",
    "    add_on_status STRING,\n",
    "    add_on_sub_id STRING,\n",
    "\n",
    "    -- BASE Subscription Details\n",
    "    base_provider_type STRING,\n",
    "    base_product_type STRING,\n",
    "    base_status STRING,\n",
    "    base_terminationCode STRING,\n",
    "    base_sub_id STRING,\n",
    "\n",
    "    -- User Details\n",
    "    userid STRING\n",
    ") USING DELTA;"
   ]
  },
  {
   "cell_type": "code",
   "execution_count": 0,
   "metadata": {
    "application/vnd.databricks.v1+cell": {
     "cellMetadata": {
      "byteLimit": 2048000,
      "rowLimit": 10000
     },
     "inputWidgets": {},
     "nuid": "dd25d0cc-91f1-446c-9fa9-beff455c6454",
     "showTitle": true,
     "tableResultSettingsMap": {},
     "title": "Add-On No Base"
    }
   },
   "outputs": [],
   "source": [
    "CREATE TABLE IF NOT EXISTS bolt_finint_int.silver.ra_addons_no_base (\n",
    "    run_timestamp TIMESTAMP,  -- Timestamp of when the query was executed\n",
    "    tenant STRING,\n",
    "    realm STRING,\n",
    "    region STRING,\n",
    "    origin STRING,\n",
    "    status STRING,\n",
    "    startedWithFreeTrial BOOLEAN,\n",
    "    inFreeTrial BOOLEAN,\n",
    "    subscribedInSite STRING,\n",
    "    purchaseTerritory STRING,\n",
    "    providerType STRING,\n",
    "    providerName STRING,\n",
    "    direct_subscriptionType STRING,\n",
    "    direct_affiliate STRING,\n",
    "    pricePlanId INT,\n",
    "    pricePlanMarket STRING,\n",
    "    productType STRING,\n",
    "    isBundle BOOLEAN,\n",
    "    businessType STRING,\n",
    "    SAPPlatform STRING,\n",
    "    SAPBrand STRING,\n",
    "    SAPRevenueType STRING,\n",
    "    businessCase STRING,\n",
    "    productName STRING,\n",
    "    tierType STRING,\n",
    "    campaignCode STRING,\n",
    "    campaignId STRING,\n",
    "    campaign_name STRING,\n",
    "    campaign_type STRING,\n",
    "    internalName STRING,\n",
    "    pricePlanType STRING,\n",
    "    paymentPeriod STRING,\n",
    "    numberOfPeriodsBetweenPayments INT,\n",
    "    planPrice DOUBLE,\n",
    "    planCurrency STRING,\n",
    "    startDate TIMESTAMP,\n",
    "    affiliateStartDate TIMESTAMP,\n",
    "    nextRenewalDate TIMESTAMP,\n",
    "    nextRetryDate TIMESTAMP,\n",
    "    endDate TIMESTAMP,\n",
    "    cancellationDate TIMESTAMP,\n",
    "    terminationDate TIMESTAMP,\n",
    "    terminationReason STRING,\n",
    "    terminationCode STRING,\n",
    "    pricePlanChangeDate TIMESTAMP,\n",
    "    minimumTermEndDate TIMESTAMP,\n",
    "    Installment_renewalCycleStartDate TIMESTAMP,\n",
    "    remainingInstallments INT,\n",
    "    InstallmentType STRING,\n",
    "    HomeTerritory_expirationDate TIMESTAMP,\n",
    "    HomeTerritory_code STRING,\n",
    "    contractId STRING,\n",
    "    fulfillerPartnerId STRING,\n",
    "    fulfillerPartnerSku STRING,\n",
    "    globalsubscriptionid STRING,\n",
    "    baseSubscriptionId STRING,\n",
    "    previousSubscriptionGlobalId STRING,\n",
    "    userid STRING,\n",
    "    direct_paymentMethodId STRING,\n",
    "    iap_originalProviderPaymentReference STRING,\n",
    "    iap_providerUserId STRING,\n",
    "    iap_provider STRING,\n",
    "    iap_iapSubscriptionId STRING,\n",
    "    iap_pauseDate TIMESTAMP,\n",
    "    iap_pauseCode STRING,\n",
    "    iap_pauseReason STRING,\n",
    "    partner_gauthSubscriptionId STRING,\n",
    "    partner_gauthUserId STRING,\n",
    "    partner_partnerId STRING,\n",
    "    partner_sku STRING,\n",
    "    recordCreated TIMESTAMP,\n",
    "    recordUpdated TIMESTAMP,\n",
    "    userEmail STRING,\n",
    "    anonymous BOOLEAN,\n",
    "    testUser BOOLEAN,\n",
    "    userRegisteredDate TIMESTAMP,\n",
    "    userLastLoginDate TIMESTAMP\n",
    ") USING DELTA;"
   ]
  },
  {
   "cell_type": "code",
   "execution_count": 0,
   "metadata": {
    "application/vnd.databricks.v1+cell": {
     "cellMetadata": {
      "byteLimit": 2048000,
      "rowLimit": 10000
     },
     "inputWidgets": {},
     "nuid": "1cb6ad38-bdae-4443-a53b-cb541e2e30b4",
     "showTitle": true,
     "tableResultSettingsMap": {},
     "title": "Next Renewal Date Validation"
    }
   },
   "outputs": [],
   "source": [
    "CREATE TABLE IF NOT EXISTS bolt_finint_int.silver.ra_next_renewal (\n",
    "    run_timestamp TIMESTAMP,  -- Timestamp of when the query was executed\n",
    "    userid STRING,\n",
    "    globalsubscriptionid STRING,\n",
    "    realm STRING,\n",
    "    region STRING,\n",
    "    priceplanmarket STRING,  \n",
    "    providertype STRING,\n",
    "    providername STRING,\n",
    "    subscribedinsite STRING,\n",
    "    status STRING,\n",
    "    startdate DATE,\n",
    "    nextretrydate DATE,\n",
    "    producttype STRING,\n",
    "    tiertype STRING,\n",
    "    productname STRING,\n",
    "    paymentperiod STRING,\n",
    "    InstallmentType STRING,\n",
    "    numberOfPeriodsBetweenPayments INT,\n",
    "    nextrenewaldate DATE,\n",
    "    next_renewal_check STRING\n",
    ") USING DELTA;"
   ]
  },
  {
   "cell_type": "code",
   "execution_count": 0,
   "metadata": {
    "application/vnd.databricks.v1+cell": {
     "cellMetadata": {
      "byteLimit": 2048000,
      "rowLimit": 10000
     },
     "inputWidgets": {},
     "nuid": "037274fe-561e-4bc5-9ff1-002e017be817",
     "showTitle": true,
     "tableResultSettingsMap": {},
     "title": "MVPD Add-On Refunds"
    }
   },
   "outputs": [],
   "source": [
    "CREATE TABLE IF NOT EXISTS bolt_finint_int.silver.ra_mvpd_addon_refunds (\n",
    "    run_timestamp TIMESTAMP,  -- Timestamp of when the query was executed\n",
    "    realm STRING,\n",
    "    tenant STRING,\n",
    "    userHomeRegion STRING,\n",
    "    region STRING,\n",
    "    created_date TIMESTAMP,\n",
    "    transaction_date TIMESTAMP,\n",
    "    invoice_start_date TIMESTAMP,\n",
    "    invoice_end_date TIMESTAMP,\n",
    "    next_retry_date TIMESTAMP,\n",
    "    source_type STRING,\n",
    "    billed_currency STRING,\n",
    "    event_type STRING,\n",
    "    payment_type STRING,\n",
    "    event_state_reason STRING,\n",
    "    refund_source STRING,\n",
    "    payment_provider STRING,\n",
    "    paymentInstallments INT,\n",
    "    is_post_launch BOOLEAN,\n",
    "    payment_method_type STRING,\n",
    "    card_Provider STRING,\n",
    "    funding_source STRING,\n",
    "    priceplan_market STRING,\n",
    "    launch_wave STRING,\n",
    "    product_type STRING,\n",
    "    is_bundle BOOLEAN,\n",
    "    is_retention_offer BOOLEAN,\n",
    "    productname STRING,\n",
    "    tier_type STRING,\n",
    "    campaign_Name STRING,\n",
    "    campaign_type STRING,\n",
    "    internalname STRING,\n",
    "    priceplantype STRING,\n",
    "    paymentperiod STRING,\n",
    "    period_frequency INT,\n",
    "    PriceplanInstallments INT,\n",
    "    plan_price DOUBLE,\n",
    "    plan_currency STRING,\n",
    "    currencyDecimalPoints INT,\n",
    "    sub_origin STRING,\n",
    "    sub_purchase_territory STRING,\n",
    "    sub_affiliate STRING,\n",
    "    sub_start_date TIMESTAMP,\n",
    "    sub_affiliate_start_date TIMESTAMP,\n",
    "    sub_installment_type STRING,\n",
    "    billed_amount DOUBLE,\n",
    "    tax_amount DOUBLE,\n",
    "    revenue_amount DOUBLE,\n",
    "    tax_rate DOUBLE,\n",
    "    tax_description STRING,\n",
    "    tax_country_code STRING,\n",
    "    userid STRING,\n",
    "    event_id STRING,\n",
    "    original_transaction_id STRING,\n",
    "    provider_Reference_id STRING,\n",
    "    merchantaccount STRING,\n",
    "    paymentmethodid STRING,\n",
    "    legacyExportingSource STRING,\n",
    "    globalsubscriptionid STRING,\n",
    "    basesubscriptionid STRING,\n",
    "    previoussubscriptionglobalid STRING,\n",
    "    priceplanid INT,\n",
    "    businessType STRING,\n",
    "    SAP_Platform STRING,\n",
    "    SAP_Brand STRING,\n",
    "    SAP_RevenueType STRING,\n",
    "    businessCase STRING,\n",
    "    testUSer BOOLEAN,\n",
    "    userEmail STRING\n",
    ") USING DELTA;"
   ]
  },
  {
   "cell_type": "markdown",
   "metadata": {
    "application/vnd.databricks.v1+cell": {
     "cellMetadata": {},
     "inputWidgets": {},
     "nuid": "edb17f70-9988-42b6-9973-fec55beaa3ae",
     "showTitle": false,
     "tableResultSettingsMap": {},
     "title": ""
    }
   },
   "source": [
    "# Cleanup"
   ]
  },
  {
   "cell_type": "code",
   "execution_count": 0,
   "metadata": {
    "application/vnd.databricks.v1+cell": {
     "cellMetadata": {
      "byteLimit": 2048000,
      "rowLimit": 10000
     },
     "inputWidgets": {},
     "nuid": "c7f9fcd8-7411-4606-aac2-9972504395e9",
     "showTitle": true,
     "tableResultSettingsMap": {},
     "title": "Drop Tables Statement"
    }
   },
   "outputs": [],
   "source": [
    "DROP TABLE IF EXISTS bolt_finint_int.silver.ra_duplicate_transactions;\n",
    "DROP TABLE IF EXISTS bolt_finint_int.silver.ra_duplicate_subscriptions;\n",
    "DROP TABLE IF EXISTS bolt_finint_int.silver.ra_unbilled_subscriptions;\n",
    "DROP TABLE IF EXISTS bolt_finint_int.silver.ra_billing_discrepancies;\n",
    "DROP TABLE IF EXISTS bolt_finint_int.silver.ra_addon_terminated_base;\n",
    "DROP TABLE IF EXISTS bolt_finint_int.silver.ra_addons_no_base;\n",
    "DROP TABLE IF EXISTS bolt_finint_int.silver.ra_next_renewal;\n",
    "DROP TABLE IF EXISTS bolt_finint_int.silver.ra_mvpd_addon_refunds;"
   ]
  }
 ],
 "metadata": {
  "application/vnd.databricks.v1+notebook": {
   "computePreferences": null,
   "dashboards": [],
   "environmentMetadata": {
    "base_environment": "",
    "client": "2"
   },
   "language": "sql",
   "notebookMetadata": {
    "pythonIndentUnit": 4
   },
   "notebookName": "Global RA Gold Table Creation",
   "widgets": {}
  },
  "language_info": {
   "name": "sql"
  }
 },
 "nbformat": 4,
 "nbformat_minor": 0
}
