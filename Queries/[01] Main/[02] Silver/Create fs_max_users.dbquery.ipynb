{
 "cells": [
  {
   "cell_type": "code",
   "execution_count": 0,
   "metadata": {
    "application/vnd.databricks.v1+cell": {
     "cellMetadata": {},
     "inputWidgets": {},
     "nuid": "215173b4-6c49-4b2c-8734-a17ed20e1000",
     "showTitle": false,
     "tableResultSettingsMap": {},
     "title": ""
    }
   },
   "outputs": [],
   "source": [
    "Create or replace MATERIALIZED VIEW bolt_finint_int.silver.fs_max_users as\n",
    "\n",
    "with global_user_entities as (\n",
    "\n",
    "select tenant, record.user.*, 'AMER' as region\n",
    "from bolt_dcp_prod.bronze.raw_s2s_user_entities\n",
    "\n",
    "UNION all\n",
    "\n",
    "select tenant, record.user.*, 'LATAM' as region\n",
    "from bolt_dcp_prod.beam_latam_bronze.raw_s2s_user_entities\n",
    "\n",
    "UNION all \n",
    "\n",
    "select tenant, record.user.*, 'EMEA' as region\n",
    "from bolt_dcp_prod.beam_emea_bronze.raw_s2s_user_entities\n",
    "\n",
    "UNION ALL\n",
    "\n",
    "select tenant, record.user.*, 'APAC' as region\n",
    "from bolt_raw_prod.consumer.raw_beam_apac_s2s_user_entities\n",
    "\n",
    "----------------------------------------------------------------------\n",
    "\n",
    "-- Comment out below to switch ALL regions to the raw catalogs\n",
    "-- select tenant, record.user.*, 'AMER' as region\n",
    "-- from bolt_raw_prod.commerce.raw_beam_amer_s2s_user_entities\n",
    "\n",
    "-- UNION all\n",
    "\n",
    "-- select tenant, record.user.*, 'LATAM' as region\n",
    "-- from bolt_raw_prod.commerce.raw_beam_latam_s2s_user_entities\n",
    "\n",
    "-- UNION all \n",
    "\n",
    "-- select tenant, record.user.*, 'EMEA' as region\n",
    "-- from bolt_raw_prod.commerce.raw_beam_emea_s2s_user_entities\n",
    "\n",
    ")\n",
    "select *\n",
    "from global_user_entities\n",
    "where userid is not null"
   ]
  }
 ],
 "metadata": {
  "application/vnd.databricks.v1+notebook": {
   "computePreferences": null,
   "dashboards": [],
   "environmentMetadata": null,
   "language": "sql",
   "notebookMetadata": {
    "sqlQueryOptions": {
     "applyAutoLimit": false,
     "catalog": "hive_metastore",
     "schema": "default"
    }
   },
   "notebookName": "Create fs_max_users.dbquery.ipynb",
   "widgets": {}
  },
  "language_info": {
   "name": "sql"
  }
 },
 "nbformat": 4,
 "nbformat_minor": 0
}
