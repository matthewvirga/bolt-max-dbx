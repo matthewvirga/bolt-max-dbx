{
 "cells": [
  {
   "cell_type": "code",
   "execution_count": 0,
   "metadata": {
    "application/vnd.databricks.v1+cell": {
     "cellMetadata": {},
     "inputWidgets": {},
     "nuid": "fb504a14-b644-4596-a1e9-0784233b3b79",
     "showTitle": false,
     "tableResultSettingsMap": {},
     "title": ""
    }
   },
   "outputs": [],
   "source": [
    "Create or replace MATERIALIZED VIEW bolt_finint_int.silver.fs_max_plans as\n",
    "\n",
    "select\n",
    "pp.record.priceplan.realm,\n",
    "  pp.record.priceplan.marketId as market,\n",
    "    case \n",
    "    when pp.record.priceplan.marketid IN ('TG_MARKET_NETHERLANDS','TG_MARKET_POLAND','TG_MARKET_FRANCE','TG_MARKET_BELGIUM') then 'WAVE 2'\n",
    "    else null\n",
    "  end as launch_wave,\n",
    "  pp.record.priceplan.id as priceplanid,\n",
    "  pr.record.product.addOnIds,\n",
    "  pr.record.product.mainProductIds,\n",
    "  pr.record.product.bundlingMemberIds,\n",
    "  pr.record.product.contractId,\n",
    "  pr.record.product.bundle as bundle,\n",
    "  pr.record.product.fulfillerPartnerId,\n",
    "  pr.record.product.fulfillerPartnerSku,\n",
    "  pr.record.product.productType as productType,\n",
    "  pr.record.product.businessType,\n",
    "  pr.record.product.businessPlatform,\n",
    "  pr.record.product.businessBrand,\n",
    "  pr.record.product.revenueType,\n",
    "  pr.record.product.businessCase,\n",
    "  pr.record.product.name as productName,\n",
    "  pr.record.product.tiertype as tierType,\n",
    "  pp.record.priceplan.provider as Provider,\n",
    "\n",
    "  ca.record.campaign.name as campaign_name,\n",
    "  ca.record.campaign.type as campaign_type,\n",
    "  ca.record.campaign.openForAll as campaign_openForAll,\n",
    "  ca.record.campaign.allowMultipleUses as campaign_allowMultipleUses,\n",
    "  ca.record.campaign.campaignCodeSummary.code as campaign_CodeSummary_Code,\n",
    "  ca.record.campaign.campaignCodeSummary.totalRedemptionsMax as campaign_CodeSummary_totalRedemptionsMax,\n",
    "  ca.record.campaign.campaignCodeSummary.totalRedemptionsLeft as campaign_CodeSummary_totalRedemptionsLeft,\n",
    "  ca.record.campaign.campaignCodeSummary.numberOfVouchers as campaign_CodeSummary_numberOfVouchers,\n",
    "\n",
    "  pp.record.priceplan.internalName as internalName,\n",
    "  pp.record.priceplan.type as pricePlanType,\n",
    "  pp.record.priceplan.retentionOffer as retentionOffer,\n",
    "  pp.record.priceplan.period as paymentPeriod,\n",
    "  pp.record.priceplan.numberOfInstalments,\n",
    "  pp.record.priceplan.numberOfPeriodsBetweenPayments,\n",
    "  coalesce(pp.record.priceplan.price, 0) as price,\n",
    "  coalesce(pp.record.priceplan.currencyDecimalPoints,0) as currencyDecimalPoints,\n",
    "  coalesce(pp.record.priceplan.price, 0) / POWER(10, coalesce(pp.record.priceplan.currencyDecimalPoints,0)) AS planPrice,\n",
    "  pp.record.priceplan.currency as currency,\n",
    "  pr.record.product.capabilitiesProvided\n",
    "from\n",
    "  bolt_raw_prod.commerce.raw_any_any_s2s_price_plan_entities pp\n",
    "  LEFT JOIN bolt_raw_prod.commerce.raw_any_any_s2s_product_catalogue_entities pr on pp.record.priceplan.productid = pr.record.product.id\n",
    "  LEFT JOIN bolt_raw_prod.commerce.raw_any_any_s2s_campaign_entities ca on pp.record.priceplan.id = ca.record.campaign.pricePlanId"
   ]
  }
 ],
 "metadata": {
  "application/vnd.databricks.v1+notebook": {
   "computePreferences": null,
   "dashboards": [],
   "environmentMetadata": null,
   "language": "sql",
   "notebookMetadata": {
    "sqlQueryOptions": {
     "applyAutoLimit": false,
     "catalog": "hive_metastore",
     "schema": "default"
    }
   },
   "notebookName": "Create fs_max_plans.dbquery.ipynb",
   "widgets": {}
  },
  "language_info": {
   "name": "sql"
  }
 },
 "nbformat": 4,
 "nbformat_minor": 0
}
